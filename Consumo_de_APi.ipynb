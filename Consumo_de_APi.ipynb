{
  "nbformat": 4,
  "nbformat_minor": 0,
  "metadata": {
    "colab": {
      "provenance": [],
      "authorship_tag": "ABX9TyNOMjVOJZhnYQrD3nfd7v2j"
    },
    "kernelspec": {
      "name": "python3",
      "display_name": "Python 3"
    },
    "language_info": {
      "name": "python"
    }
  },
  "cells": [
    {
      "cell_type": "code",
      "execution_count": 12,
      "metadata": {
        "colab": {
          "base_uri": "https://localhost:8080/"
        },
        "id": "qdBmwkM8VHD6",
        "outputId": "0d8a9a8a-f770-42ca-ae1e-3b39292fe1c2"
      },
      "outputs": [
        {
          "output_type": "stream",
          "name": "stdout",
          "text": [
            "           ID     county          city state  zip_code  model_year       make  \\\n",
            "0  1C4RJXN66R  Snohomish       Everett    WA   98204.0        2024       JEEP   \n",
            "1  KNDJX3AEXG       King        Renton    WA   98058.0        2016        KIA   \n",
            "2  5YJ3E1EA3L       King       Seattle    WA   98125.0        2020      TESLA   \n",
            "3  1G1RC6S5XH     Kitsap  Port Orchard    WA   98367.0        2017  CHEVROLET   \n",
            "4  5UXTA6C09P  Snohomish        Monroe    WA   98272.0        2023        BMW   \n",
            "\n",
            "                                  ev_type  \n",
            "0  Plug-in Hybrid Electric Vehicle (PHEV)  \n",
            "1          Battery Electric Vehicle (BEV)  \n",
            "2          Battery Electric Vehicle (BEV)  \n",
            "3  Plug-in Hybrid Electric Vehicle (PHEV)  \n",
            "4  Plug-in Hybrid Electric Vehicle (PHEV)  \n"
          ]
        }
      ],
      "source": [
        "import pandas as pd\n",
        "\n",
        "# URL do CSV\n",
        "url = 'https://data.wa.gov/resource/f6w7-q2d2.csv'\n",
        "\n",
        "# Baixar e carregar o CSV em um DataFrame\n",
        "df = pd.read_csv(url)\n",
        "\n",
        "# Renomear a coluna 'VIN (1-10)' para 'ID'\n",
        "df.rename(columns={'vin_1_10': 'ID'}, inplace=True)\n",
        "\n",
        "\n",
        "# Selecionar as colunas desejadas\n",
        "# Certifique-se de que os nomes das colunas estejam corretos e correspondam ao CSV\n",
        "# Você pode precisar ajustar os nomes das colunas se eles não forem exatamente os mesmos\n",
        "\n",
        "# Exemplo de seleção de colunas\n",
        "columns_to_keep = ['ID','county', 'city', 'state', 'zip_code', 'model_year', 'make', 'ev_type']\n",
        "df_filtered = df[columns_to_keep]\n",
        "\n",
        "# Exibir as primeiras linhas do DataFrame filtrado\n",
        "print(df_filtered.head())\n",
        "\n"
      ]
    }
  ]
}